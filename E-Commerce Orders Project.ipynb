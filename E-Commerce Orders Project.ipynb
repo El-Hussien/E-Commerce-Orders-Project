{
 "cells": [
  {
   "cell_type": "code",
   "execution_count": 1,
   "id": "c85b716f",
   "metadata": {},
   "outputs": [],
   "source": [
    "import pandas as pd\n",
    "import numpy as np\n",
    "import matplotlib.pyplot as plt\n",
    "import seaborn as sns"
   ]
  },
  {
   "cell_type": "markdown",
   "id": "4c2d713b",
   "metadata": {},
   "source": [
    "# 1) Data Collection"
   ]
  },
  {
   "cell_type": "code",
   "execution_count": 13,
   "id": "4e945fb7",
   "metadata": {},
   "outputs": [],
   "source": [
    "df = pd.read_csv(r\"D:\\ITI\\power bi project\\data\\row-data.csv\")"
   ]
  },
  {
   "cell_type": "code",
   "execution_count": 14,
   "id": "bbc2e86c",
   "metadata": {},
   "outputs": [
    {
     "data": {
      "text/html": [
       "<div>\n",
       "<style scoped>\n",
       "    .dataframe tbody tr th:only-of-type {\n",
       "        vertical-align: middle;\n",
       "    }\n",
       "\n",
       "    .dataframe tbody tr th {\n",
       "        vertical-align: top;\n",
       "    }\n",
       "\n",
       "    .dataframe thead th {\n",
       "        text-align: right;\n",
       "    }\n",
       "</style>\n",
       "<table border=\"1\" class=\"dataframe\">\n",
       "  <thead>\n",
       "    <tr style=\"text-align: right;\">\n",
       "      <th></th>\n",
       "      <th>Type</th>\n",
       "      <th>Days for shipping (real)</th>\n",
       "      <th>Days for shipment (scheduled)</th>\n",
       "      <th>Benefit per order</th>\n",
       "      <th>Sales per customer</th>\n",
       "      <th>Delivery Status</th>\n",
       "      <th>Late_delivery_risk</th>\n",
       "      <th>Category Id</th>\n",
       "      <th>Category Name</th>\n",
       "      <th>Customer City</th>\n",
       "      <th>...</th>\n",
       "      <th>Product Price</th>\n",
       "      <th>Product Status</th>\n",
       "      <th>shipping date (DateOrders)</th>\n",
       "      <th>Shipping Mode</th>\n",
       "      <th>Date</th>\n",
       "      <th>Year</th>\n",
       "      <th>Month</th>\n",
       "      <th>Day</th>\n",
       "      <th>Hour</th>\n",
       "      <th>Count</th>\n",
       "    </tr>\n",
       "  </thead>\n",
       "  <tbody>\n",
       "    <tr>\n",
       "      <th>0</th>\n",
       "      <td>DEBIT</td>\n",
       "      <td>3</td>\n",
       "      <td>4</td>\n",
       "      <td>91.250000</td>\n",
       "      <td>314.640015</td>\n",
       "      <td>Advance shipping</td>\n",
       "      <td>0</td>\n",
       "      <td>73</td>\n",
       "      <td>Sporting Goods</td>\n",
       "      <td>Caguas</td>\n",
       "      <td>...</td>\n",
       "      <td>327.75</td>\n",
       "      <td>0</td>\n",
       "      <td>2/3/2018 22:56</td>\n",
       "      <td>Standard Class</td>\n",
       "      <td>2018-01-31</td>\n",
       "      <td>2018</td>\n",
       "      <td>1</td>\n",
       "      <td>31</td>\n",
       "      <td>22</td>\n",
       "      <td>1</td>\n",
       "    </tr>\n",
       "    <tr>\n",
       "      <th>1</th>\n",
       "      <td>TRANSFER</td>\n",
       "      <td>5</td>\n",
       "      <td>4</td>\n",
       "      <td>-249.089996</td>\n",
       "      <td>311.359985</td>\n",
       "      <td>Late delivery</td>\n",
       "      <td>1</td>\n",
       "      <td>73</td>\n",
       "      <td>Sporting Goods</td>\n",
       "      <td>Caguas</td>\n",
       "      <td>...</td>\n",
       "      <td>327.75</td>\n",
       "      <td>0</td>\n",
       "      <td>1/18/2018 12:27</td>\n",
       "      <td>Standard Class</td>\n",
       "      <td>2018-01-13</td>\n",
       "      <td>2018</td>\n",
       "      <td>1</td>\n",
       "      <td>13</td>\n",
       "      <td>12</td>\n",
       "      <td>2</td>\n",
       "    </tr>\n",
       "    <tr>\n",
       "      <th>2</th>\n",
       "      <td>CASH</td>\n",
       "      <td>4</td>\n",
       "      <td>4</td>\n",
       "      <td>-247.779999</td>\n",
       "      <td>309.720001</td>\n",
       "      <td>Shipping on time</td>\n",
       "      <td>0</td>\n",
       "      <td>73</td>\n",
       "      <td>Sporting Goods</td>\n",
       "      <td>San Jose</td>\n",
       "      <td>...</td>\n",
       "      <td>327.75</td>\n",
       "      <td>0</td>\n",
       "      <td>1/17/2018 12:06</td>\n",
       "      <td>Standard Class</td>\n",
       "      <td>2018-01-13</td>\n",
       "      <td>2018</td>\n",
       "      <td>1</td>\n",
       "      <td>13</td>\n",
       "      <td>12</td>\n",
       "      <td>3</td>\n",
       "    </tr>\n",
       "    <tr>\n",
       "      <th>3</th>\n",
       "      <td>DEBIT</td>\n",
       "      <td>3</td>\n",
       "      <td>4</td>\n",
       "      <td>22.860001</td>\n",
       "      <td>304.809998</td>\n",
       "      <td>Advance shipping</td>\n",
       "      <td>0</td>\n",
       "      <td>73</td>\n",
       "      <td>Sporting Goods</td>\n",
       "      <td>Los Angeles</td>\n",
       "      <td>...</td>\n",
       "      <td>327.75</td>\n",
       "      <td>0</td>\n",
       "      <td>1/16/2018 11:45</td>\n",
       "      <td>Standard Class</td>\n",
       "      <td>2018-01-13</td>\n",
       "      <td>2018</td>\n",
       "      <td>1</td>\n",
       "      <td>13</td>\n",
       "      <td>11</td>\n",
       "      <td>4</td>\n",
       "    </tr>\n",
       "    <tr>\n",
       "      <th>4</th>\n",
       "      <td>PAYMENT</td>\n",
       "      <td>2</td>\n",
       "      <td>4</td>\n",
       "      <td>134.210007</td>\n",
       "      <td>298.250000</td>\n",
       "      <td>Advance shipping</td>\n",
       "      <td>0</td>\n",
       "      <td>73</td>\n",
       "      <td>Sporting Goods</td>\n",
       "      <td>Caguas</td>\n",
       "      <td>...</td>\n",
       "      <td>327.75</td>\n",
       "      <td>0</td>\n",
       "      <td>1/15/2018 11:24</td>\n",
       "      <td>Standard Class</td>\n",
       "      <td>2018-01-13</td>\n",
       "      <td>2018</td>\n",
       "      <td>1</td>\n",
       "      <td>13</td>\n",
       "      <td>11</td>\n",
       "      <td>5</td>\n",
       "    </tr>\n",
       "  </tbody>\n",
       "</table>\n",
       "<p>5 rows × 59 columns</p>\n",
       "</div>"
      ],
      "text/plain": [
       "       Type  Days for shipping (real)  Days for shipment (scheduled)  \\\n",
       "0     DEBIT                         3                              4   \n",
       "1  TRANSFER                         5                              4   \n",
       "2      CASH                         4                              4   \n",
       "3     DEBIT                         3                              4   \n",
       "4   PAYMENT                         2                              4   \n",
       "\n",
       "   Benefit per order  Sales per customer   Delivery Status  \\\n",
       "0          91.250000          314.640015  Advance shipping   \n",
       "1        -249.089996          311.359985     Late delivery   \n",
       "2        -247.779999          309.720001  Shipping on time   \n",
       "3          22.860001          304.809998  Advance shipping   \n",
       "4         134.210007          298.250000  Advance shipping   \n",
       "\n",
       "   Late_delivery_risk  Category Id   Category Name Customer City  ...  \\\n",
       "0                   0           73  Sporting Goods        Caguas  ...   \n",
       "1                   1           73  Sporting Goods        Caguas  ...   \n",
       "2                   0           73  Sporting Goods      San Jose  ...   \n",
       "3                   0           73  Sporting Goods   Los Angeles  ...   \n",
       "4                   0           73  Sporting Goods        Caguas  ...   \n",
       "\n",
       "  Product Price Product Status shipping date (DateOrders)   Shipping Mode  \\\n",
       "0        327.75              0             2/3/2018 22:56  Standard Class   \n",
       "1        327.75              0            1/18/2018 12:27  Standard Class   \n",
       "2        327.75              0            1/17/2018 12:06  Standard Class   \n",
       "3        327.75              0            1/16/2018 11:45  Standard Class   \n",
       "4        327.75              0            1/15/2018 11:24  Standard Class   \n",
       "\n",
       "         Date  Year Month Day Hour  Count  \n",
       "0  2018-01-31  2018     1  31   22      1  \n",
       "1  2018-01-13  2018     1  13   12      2  \n",
       "2  2018-01-13  2018     1  13   12      3  \n",
       "3  2018-01-13  2018     1  13   11      4  \n",
       "4  2018-01-13  2018     1  13   11      5  \n",
       "\n",
       "[5 rows x 59 columns]"
      ]
     },
     "execution_count": 14,
     "metadata": {},
     "output_type": "execute_result"
    }
   ],
   "source": [
    "df.head()"
   ]
  },
  {
   "cell_type": "code",
   "execution_count": 15,
   "id": "e18dac64",
   "metadata": {},
   "outputs": [
    {
     "data": {
      "text/plain": [
       "Type                                  0\n",
       "Days for shipping (real)              0\n",
       "Days for shipment (scheduled)         0\n",
       "Benefit per order                     0\n",
       "Sales per customer                    0\n",
       "Delivery Status                       0\n",
       "Late_delivery_risk                    0\n",
       "Category Id                           0\n",
       "Category Name                         0\n",
       "Customer City                         0\n",
       "Customer Country                      0\n",
       "Customer Email                        0\n",
       "Customer Fname                        0\n",
       "Customer Id                           0\n",
       "Customer Lname                        8\n",
       "Customer Password                     0\n",
       "Customer Segment                      0\n",
       "Customer State                        0\n",
       "Customer Street                       0\n",
       "Customer Zipcode                      3\n",
       "Department Id                         0\n",
       "Department Name                       0\n",
       "Latitude                              0\n",
       "Longitude                             0\n",
       "Market                                0\n",
       "Order City                            0\n",
       "Order Country                         0\n",
       "Order Customer Id                     0\n",
       "order date (DateOrders)               0\n",
       "Order Id                              0\n",
       "Order Item Cardprod Id                0\n",
       "Order Item Discount                   0\n",
       "Order Item Discount Rate              0\n",
       "Order Item Id                         0\n",
       "Order Item Product Price              0\n",
       "Order Item Profit Ratio               0\n",
       "Order Item Quantity                   0\n",
       "Sales                                 0\n",
       "Order Item Total                      0\n",
       "Order Profit Per Order                0\n",
       "Order Region                          0\n",
       "Order State                           0\n",
       "Order Status                          0\n",
       "Order Zipcode                    155679\n",
       "Product Card Id                       0\n",
       "Product Category Id                   0\n",
       "Product Description              180519\n",
       "Product Image                         0\n",
       "Product Name                          0\n",
       "Product Price                         0\n",
       "Product Status                        0\n",
       "shipping date (DateOrders)            0\n",
       "Shipping Mode                         0\n",
       "Date                                  0\n",
       "Year                                  0\n",
       "Month                                 0\n",
       "Day                                   0\n",
       "Hour                                  0\n",
       "Count                                 0\n",
       "dtype: int64"
      ]
     },
     "execution_count": 15,
     "metadata": {},
     "output_type": "execute_result"
    }
   ],
   "source": [
    "# Check for Missing Columns or Rows\n",
    "df.isnull().sum()"
   ]
  },
  {
   "cell_type": "code",
   "execution_count": 16,
   "id": "67596a3e",
   "metadata": {},
   "outputs": [],
   "source": [
    "# Drop Columns Order Zipcode and Product Description\n",
    "df.drop(columns=['Order Zipcode', 'Product Description'], inplace=True)\n",
    "\n",
    "# drop rows that has (Customer Zipcode) null value {3 rows affected}\n",
    "df.dropna(inplace=True)"
   ]
  },
  {
   "cell_type": "markdown",
   "id": "47668d24",
   "metadata": {},
   "source": [
    "# 2) Data Storage & Organization"
   ]
  },
  {
   "cell_type": "code",
   "execution_count": 28,
   "id": "5972fe29",
   "metadata": {
    "scrolled": true
   },
   "outputs": [
    {
     "data": {
      "text/plain": [
       "type                                   object\n",
       "days_for_shipping_real                  int64\n",
       "days_for_shipment_scheduled             int64\n",
       "benefit_per_order                     float64\n",
       "sales_per_customer                    float64\n",
       "delivery_status                        object\n",
       "late_delivery_risk                      int64\n",
       "category_id                             int64\n",
       "category_name                          object\n",
       "customer_city                          object\n",
       "customer_country                       object\n",
       "customer_fname                         object\n",
       "customer_id                             int64\n",
       "customer_lname                         object\n",
       "customer_segment                       object\n",
       "customer_state                         object\n",
       "customer_street                        object\n",
       "customer_zipcode                      float64\n",
       "department_id                           int64\n",
       "department_name                        object\n",
       "latitude                              float64\n",
       "longitude                             float64\n",
       "market                                 object\n",
       "order_city                             object\n",
       "order_country                          object\n",
       "order_customer_id                       int64\n",
       "order_date_dateorders          datetime64[ns]\n",
       "order_id                                int64\n",
       "order_item_cardprod_id                  int64\n",
       "order_item_discount                   float64\n",
       "order_item_discount_rate              float64\n",
       "order_item_id                           int64\n",
       "order_item_product_price              float64\n",
       "order_item_profit_ratio               float64\n",
       "order_item_quantity                     int64\n",
       "sales                                 float64\n",
       "order_item_total                      float64\n",
       "order_profit_per_order                float64\n",
       "order_region                           object\n",
       "order_state                            object\n",
       "order_status                           object\n",
       "product_card_id                         int64\n",
       "product_category_id                     int64\n",
       "product_image                          object\n",
       "product_name                           object\n",
       "product_price                         float64\n",
       "product_status                         object\n",
       "shipping_date_dateorders       datetime64[ns]\n",
       "shipping_mode                          object\n",
       "date                                   object\n",
       "year                                    int64\n",
       "month                                   int64\n",
       "day                                     int64\n",
       "hour                                    int64\n",
       "count                                   int64\n",
       "dtype: object"
      ]
     },
     "execution_count": 28,
     "metadata": {},
     "output_type": "execute_result"
    }
   ],
   "source": [
    "df.dtypes"
   ]
  },
  {
   "cell_type": "code",
   "execution_count": 21,
   "id": "5c0ddbac",
   "metadata": {},
   "outputs": [
    {
     "name": "stdout",
     "output_type": "stream",
     "text": [
      "Index(['type', 'days_for_shipping_real', 'days_for_shipment_scheduled',\n",
      "       'benefit_per_order', 'sales_per_customer', 'delivery_status',\n",
      "       'late_delivery_risk', 'category_id', 'category_name', 'customer_city',\n",
      "       'customer_country', 'customer_email', 'customer_fname', 'customer_id',\n",
      "       'customer_lname', 'customer_password', 'customer_segment',\n",
      "       'customer_state', 'customer_street', 'customer_zipcode',\n",
      "       'department_id', 'department_name', 'latitude', 'longitude', 'market',\n",
      "       'order_city', 'order_country', 'order_customer_id',\n",
      "       'order_date_dateorders', 'order_id', 'order_item_cardprod_id',\n",
      "       'order_item_discount', 'order_item_discount_rate', 'order_item_id',\n",
      "       'order_item_product_price', 'order_item_profit_ratio',\n",
      "       'order_item_quantity', 'sales', 'order_item_total',\n",
      "       'order_profit_per_order', 'order_region', 'order_state', 'order_status',\n",
      "       'product_card_id', 'product_category_id', 'product_image',\n",
      "       'product_name', 'product_price', 'product_status',\n",
      "       'shipping_date_dateorders', 'shipping_mode', 'date', 'year', 'month',\n",
      "       'day', 'hour', 'count'],\n",
      "      dtype='object')\n"
     ]
    }
   ],
   "source": [
    "df.columns = df.columns.str.strip().str.lower().str.replace(' ', '_').str.replace(r'[^\\w]', '', regex=True)\n",
    "print(df.columns)"
   ]
  },
  {
   "cell_type": "code",
   "execution_count": 22,
   "id": "63588880",
   "metadata": {},
   "outputs": [],
   "source": [
    "# Convert date columns to datetime format\n",
    "df['order_date_dateorders'] = pd.to_datetime(df['order_date_dateorders'], errors='coerce')\n",
    "df['shipping_date_dateorders'] = pd.to_datetime(df['shipping_date_dateorders'], errors='coerce')\n",
    "\n",
    "# Convert numeric fields\n",
    "numeric_columns = [\n",
    "    'sales', 'order_item_discount', 'order_item_total', 'order_item_discount_rate',\n",
    "    'order_item_product_price', 'order_item_quantity', 'order_profit_per_order',\n",
    "    'order_item_profit_ratio', 'benefit_per_order', 'sales_per_customer'\n",
    "]\n",
    "df[numeric_columns] = df[numeric_columns].apply(pd.to_numeric, errors='coerce')\n",
    "\n",
    "# Convert categorical fields to string type\n",
    "categorical_columns = [\n",
    "    'type', 'delivery_status', 'customer_segment', 'order_status', 'product_name',\n",
    "    'product_status', 'market', 'order_region', 'shipping_mode'\n",
    "]\n",
    "df[categorical_columns] = df[categorical_columns].astype(str)"
   ]
  },
  {
   "cell_type": "code",
   "execution_count": 29,
   "id": "748eb485",
   "metadata": {},
   "outputs": [],
   "source": [
    "# Remove duplicate rows\n",
    "df.drop_duplicates(inplace=True)"
   ]
  },
  {
   "cell_type": "markdown",
   "id": "6e6428e9",
   "metadata": {},
   "source": [
    "# 3) Data Cleaning & Preparation"
   ]
  },
  {
   "cell_type": "code",
   "execution_count": 23,
   "id": "6b592450",
   "metadata": {},
   "outputs": [],
   "source": [
    "# Drop the column 'product_description'\n",
    "df.drop(columns=['product_description','customer_email', 'customer_password'], inplace=True, errors='ignore')"
   ]
  },
  {
   "cell_type": "code",
   "execution_count": 24,
   "id": "20ef61dd",
   "metadata": {},
   "outputs": [
    {
     "name": "stdout",
     "output_type": "stream",
     "text": [
      "Unique values in Market: ['Pacific Asia' 'USCA' 'Africa' 'Europe' 'LATAM']\n",
      "Unique values in Order Region: ['Southeast Asia' 'South Asia' 'Oceania' 'Eastern Asia' 'West Asia'\n",
      " 'West of USA ' 'US Center ' 'West Africa' 'Central Africa' 'North Africa'\n",
      " 'Western Europe' 'Northern Europe' 'Central America' 'Caribbean'\n",
      " 'South America' 'East Africa' 'Southern Europe' 'East of USA' 'Canada'\n",
      " 'Southern Africa' 'Central Asia' 'Eastern Europe' 'South of  USA ']\n"
     ]
    }
   ],
   "source": [
    "print(\"Unique values in Market:\", df['market'].unique())\n",
    "print(\"Unique values in Order Region:\", df['order_region'].unique())\n"
   ]
  },
  {
   "cell_type": "code",
   "execution_count": 25,
   "id": "eed1af24",
   "metadata": {},
   "outputs": [],
   "source": [
    "df['market'] = df['market'].str.strip()\n",
    "df['order_region'] = df['order_region'].str.strip()"
   ]
  },
  {
   "cell_type": "code",
   "execution_count": 30,
   "id": "1f98985e",
   "metadata": {},
   "outputs": [],
   "source": [
    "# Trim spaces from all values\n",
    "df['market'] = df['market'].str.strip()\n",
    "df['order_region'] = df['order_region'].str.strip()\n",
    "\n",
    "# Standardize Market column\n",
    "df['market'] = df['market'].replace({\n",
    "    'USCA': 'US_CA',\n",
    "    'LATAM': 'Latin America'\n",
    "})\n",
    "\n",
    "# Standardize Order Region column\n",
    "df['order_region'] = df['order_region'].replace({\n",
    "    'West of USA': 'Western USA',\n",
    "    'US Center': 'Central USA',\n",
    "    'South of  USA': 'Southern USA'  # Fix extra space issue\n",
    "})"
   ]
  },
  {
   "cell_type": "markdown",
   "id": "ed98f327",
   "metadata": {},
   "source": [
    "# 4) Data Processing & Transformation"
   ]
  },
  {
   "cell_type": "code",
   "execution_count": 37,
   "id": "f3572f8b",
   "metadata": {},
   "outputs": [],
   "source": [
    "# Create a ‘Month-Year’ Column\n",
    "df['month_year'] = df['order_date_dateorders'].dt.strftime('%Y-%m')"
   ]
  },
  {
   "cell_type": "code",
   "execution_count": 39,
   "id": "d8bbd990",
   "metadata": {},
   "outputs": [],
   "source": [
    "# Calculate ‘Late Delivery’ Indicator\n",
    "df['late_delivery'] = (df['days_for_shipping_real'] > df['days_for_shipment_scheduled']).astype(int)"
   ]
  },
  {
   "cell_type": "code",
   "execution_count": 40,
   "id": "74456e45",
   "metadata": {},
   "outputs": [],
   "source": [
    "# Standardize Discount & Profit Metrics\n",
    "df['order_item_discount_rate'] = df['order_item_discount_rate'] / 100"
   ]
  },
  {
   "cell_type": "markdown",
   "id": "b9bc52ab",
   "metadata": {},
   "source": [
    "### now our data is cleaned and ready for Visualization \n"
   ]
  },
  {
   "cell_type": "markdown",
   "id": "ce6912cf",
   "metadata": {},
   "source": [
    "**lets save the data and move to Power Bi**"
   ]
  },
  {
   "cell_type": "code",
   "execution_count": 41,
   "id": "bbae190c",
   "metadata": {},
   "outputs": [],
   "source": [
    "df.to_csv(r\"D:\\ITI\\power bi project\\data\\cleaned_data.csv\", index=False)"
   ]
  },
  {
   "cell_type": "markdown",
   "id": "5c1ee7eb",
   "metadata": {},
   "source": [
    "# Questions & Visuals for Analysis\n",
    "\n",
    "Total Sales Per Month ==> **Line Chart**\n",
    "\n",
    "Top 10 Most Profitable Products ==> **Bar Chart**\n",
    "\n",
    "On-time vs. Late Deliveries ==> **Pie Chart**\n",
    "\n",
    "Total Orders Per Customer Segment ==> **Bar Chart**\n",
    "\n",
    "Sales Performance by Region ==> **Map**\n",
    "\n",
    "Sales vs. Discounts Impact on Revenue ==> **Scatter Plot**"
   ]
  },
  {
   "cell_type": "code",
   "execution_count": null,
   "id": "88646ab9",
   "metadata": {},
   "outputs": [],
   "source": []
  }
 ],
 "metadata": {
  "kernelspec": {
   "display_name": "Python 3 (ipykernel)",
   "language": "python",
   "name": "python3"
  },
  "language_info": {
   "codemirror_mode": {
    "name": "ipython",
    "version": 3
   },
   "file_extension": ".py",
   "mimetype": "text/x-python",
   "name": "python",
   "nbconvert_exporter": "python",
   "pygments_lexer": "ipython3",
   "version": "3.11.4"
  }
 },
 "nbformat": 4,
 "nbformat_minor": 5
}
